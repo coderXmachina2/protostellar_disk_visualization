{
 "cells": [
  {
   "cell_type": "code",
   "execution_count": null,
   "metadata": {},
   "outputs": [],
   "source": [
    "#visualizing protostellar disks from \n",
    "\n",
    "import pandas as pd\n",
    "\n",
    "import pickle as rick\n",
    "with open(\"/data/.pickle\", 'rb') as fid: \n",
    "    u = rick._Unpickler(fid) \n",
    "    u.encoding = 'latin1' \n",
    "    p = u.load()"
   ]
  }
 ],
 "metadata": {
  "kernelspec": {
   "display_name": "Python 3",
   "language": "python",
   "name": "python3"
  },
  "language_info": {
   "codemirror_mode": {
    "name": "ipython",
    "version": 3
   },
   "file_extension": ".py",
   "mimetype": "text/x-python",
   "name": "python",
   "nbconvert_exporter": "python",
   "pygments_lexer": "ipython3",
   "version": "3.7.1"
  }
 },
 "nbformat": 4,
 "nbformat_minor": 2
}
