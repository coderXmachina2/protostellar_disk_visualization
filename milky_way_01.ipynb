{
 "cells": [
  {
   "cell_type": "code",
   "execution_count": 2,
   "metadata": {},
   "outputs": [
    {
     "name": "stderr",
     "output_type": "stream",
     "text": [
      "C:\\Users\\ultra\\AppData\\Local\\Continuum\\anaconda3\\lib\\site-packages\\tensorflow\\python\\framework\\dtypes.py:516: FutureWarning: Passing (type, 1) or '1type' as a synonym of type is deprecated; in a future version of numpy, it will be understood as (type, (1,)) / '(1,)type'.\n",
      "  _np_qint8 = np.dtype([(\"qint8\", np.int8, 1)])\n",
      "C:\\Users\\ultra\\AppData\\Local\\Continuum\\anaconda3\\lib\\site-packages\\tensorflow\\python\\framework\\dtypes.py:517: FutureWarning: Passing (type, 1) or '1type' as a synonym of type is deprecated; in a future version of numpy, it will be understood as (type, (1,)) / '(1,)type'.\n",
      "  _np_quint8 = np.dtype([(\"quint8\", np.uint8, 1)])\n",
      "C:\\Users\\ultra\\AppData\\Local\\Continuum\\anaconda3\\lib\\site-packages\\tensorflow\\python\\framework\\dtypes.py:518: FutureWarning: Passing (type, 1) or '1type' as a synonym of type is deprecated; in a future version of numpy, it will be understood as (type, (1,)) / '(1,)type'.\n",
      "  _np_qint16 = np.dtype([(\"qint16\", np.int16, 1)])\n",
      "C:\\Users\\ultra\\AppData\\Local\\Continuum\\anaconda3\\lib\\site-packages\\tensorflow\\python\\framework\\dtypes.py:519: FutureWarning: Passing (type, 1) or '1type' as a synonym of type is deprecated; in a future version of numpy, it will be understood as (type, (1,)) / '(1,)type'.\n",
      "  _np_quint16 = np.dtype([(\"quint16\", np.uint16, 1)])\n",
      "C:\\Users\\ultra\\AppData\\Local\\Continuum\\anaconda3\\lib\\site-packages\\tensorflow\\python\\framework\\dtypes.py:520: FutureWarning: Passing (type, 1) or '1type' as a synonym of type is deprecated; in a future version of numpy, it will be understood as (type, (1,)) / '(1,)type'.\n",
      "  _np_qint32 = np.dtype([(\"qint32\", np.int32, 1)])\n",
      "C:\\Users\\ultra\\AppData\\Local\\Continuum\\anaconda3\\lib\\site-packages\\tensorflow\\python\\framework\\dtypes.py:525: FutureWarning: Passing (type, 1) or '1type' as a synonym of type is deprecated; in a future version of numpy, it will be understood as (type, (1,)) / '(1,)type'.\n",
      "  np_resource = np.dtype([(\"resource\", np.ubyte, 1)])\n",
      "C:\\Users\\ultra\\AppData\\Local\\Continuum\\anaconda3\\lib\\site-packages\\tensorboard\\compat\\tensorflow_stub\\dtypes.py:541: FutureWarning: Passing (type, 1) or '1type' as a synonym of type is deprecated; in a future version of numpy, it will be understood as (type, (1,)) / '(1,)type'.\n",
      "  _np_qint8 = np.dtype([(\"qint8\", np.int8, 1)])\n",
      "C:\\Users\\ultra\\AppData\\Local\\Continuum\\anaconda3\\lib\\site-packages\\tensorboard\\compat\\tensorflow_stub\\dtypes.py:542: FutureWarning: Passing (type, 1) or '1type' as a synonym of type is deprecated; in a future version of numpy, it will be understood as (type, (1,)) / '(1,)type'.\n",
      "  _np_quint8 = np.dtype([(\"quint8\", np.uint8, 1)])\n",
      "C:\\Users\\ultra\\AppData\\Local\\Continuum\\anaconda3\\lib\\site-packages\\tensorboard\\compat\\tensorflow_stub\\dtypes.py:543: FutureWarning: Passing (type, 1) or '1type' as a synonym of type is deprecated; in a future version of numpy, it will be understood as (type, (1,)) / '(1,)type'.\n",
      "  _np_qint16 = np.dtype([(\"qint16\", np.int16, 1)])\n",
      "C:\\Users\\ultra\\AppData\\Local\\Continuum\\anaconda3\\lib\\site-packages\\tensorboard\\compat\\tensorflow_stub\\dtypes.py:544: FutureWarning: Passing (type, 1) or '1type' as a synonym of type is deprecated; in a future version of numpy, it will be understood as (type, (1,)) / '(1,)type'.\n",
      "  _np_quint16 = np.dtype([(\"quint16\", np.uint16, 1)])\n",
      "C:\\Users\\ultra\\AppData\\Local\\Continuum\\anaconda3\\lib\\site-packages\\tensorboard\\compat\\tensorflow_stub\\dtypes.py:545: FutureWarning: Passing (type, 1) or '1type' as a synonym of type is deprecated; in a future version of numpy, it will be understood as (type, (1,)) / '(1,)type'.\n",
      "  _np_qint32 = np.dtype([(\"qint32\", np.int32, 1)])\n",
      "C:\\Users\\ultra\\AppData\\Local\\Continuum\\anaconda3\\lib\\site-packages\\tensorboard\\compat\\tensorflow_stub\\dtypes.py:550: FutureWarning: Passing (type, 1) or '1type' as a synonym of type is deprecated; in a future version of numpy, it will be understood as (type, (1,)) / '(1,)type'.\n",
      "  np_resource = np.dtype([(\"resource\", np.ubyte, 1)])\n"
     ]
    }
   ],
   "source": [
    "#milky way test\n",
    "\n",
    "from astropy import units as u\n",
    "from mw_plot import MWPlot\n",
    "from astropy.coordinates import SkyCoord\n",
    "import astropy.coordinates as apycoords\n",
    "\n",
    "from astroNN.gaia import gaiadr2_parallax\n",
    "from astroNN.gaia import tgas_load\n",
    "\n",
    "# setup MWPlot instance, you have to specify center, radius, unit with astropy unit and choice of coord\n",
    "# or not specifying any to use default value shown below\n",
    "# center: Coordinates of the center of the plot, you cannot change this after creating the instance\n",
    "# radius: Radius of the plot, you cannot change this after creating the instance\n",
    "# coord: can be 'galactocentric' or 'galactic'\n",
    "# annotation: whether use a milkyway background with annotation\n",
    "# mode: can be 'face-on' or 'edge-on'\n",
    "# rot180: whether to rotate the plot by 180degree, putting Earth location from left hand (-8, 0)kpc to right side (8, 0)kpc\n",
    "# grayscale: whether to turn the background image to grayscale"
   ]
  },
  {
   "cell_type": "code",
   "execution_count": 3,
   "metadata": {},
   "outputs": [],
   "source": [
    "plot_instance = MWPlot(mode='face-on', \n",
    "                       center=(0, 0)*u.kpc,\n",
    "                       radius=90750*u.lyr,\n",
    "                       unit=u.kpc, \n",
    "                       coord='galactic',\n",
    "                       annotation=True,\n",
    "                       rot180=False, \n",
    "                       grayscale=False)"
   ]
  },
  {
   "cell_type": "code",
   "execution_count": 4,
   "metadata": {},
   "outputs": [],
   "source": [
    "# Here are some setting you can set after setting up a MWPlot instance\n",
    "plot_instance.title = 'you title here'  # plot title, or it can be None to show no title\n",
    "plot_instance.fontsize = 35  # fontsize for matplotlib plotting\n",
    "plot_instance.figsize = (20, 20)  # figsize for matplotlib plotting\n",
    "plot_instance.dpi = 200  # dpi for matplotlib plotting\n",
    "plot_instance.cmap = 'viridis'  # matplotlib cmap: https://matplotlib.org/examples/color/colormaps_reference.html\n",
    "plot_instance.clim = (0, 100) # colorbar range\n",
    "plot_instance.imalpha = 0.85  # alpha value for the milkyway image\n",
    "plot_instance.s = 50.0  # make the scatter points bigger\n",
    "plot_instance.tight_layout = True # whether plt.tight_layout() will be run"
   ]
  },
  {
   "cell_type": "code",
   "execution_count": 13,
   "metadata": {},
   "outputs": [
    {
     "name": "stdout",
     "output_type": "stream",
     "text": [
      "This is Gaia DR2 - APOGEE DR14 matched parallax, RA DEC in J2015.5, parallax in mas\n"
     ]
    }
   ],
   "source": [
    "# To load Gaia DR2 - APOGEE DR14 matches, indices corresponds to APOGEE allstar DR14 file\n",
    "ra, dec, parallax, parallax_error = gaiadr2_parallax(cuts=True, keepdims=False)\n",
    "distance = 1 / parallax * u.kpc\n",
    "ra = ra * u.deg\n",
    "dec = dec * u.deg\n",
    "distance_err = parallax_error / parallax\n",
    "c = apycoords.SkyCoord(ra=ra, dec=dec, distance=distance, frame='icrs')"
   ]
  },
  {
   "cell_type": "code",
   "execution_count": 14,
   "metadata": {},
   "outputs": [
    {
     "name": "stdout",
     "output_type": "stream",
     "text": [
      "[0.12165519 0.179095   0.02704744 ... 0.02883311 0.06618985 0.02432259]\n",
      "204830\n",
      "0.024322590640516478\n"
     ]
    }
   ],
   "source": [
    "print(distance_err)\n",
    "print(len(distance_err))\n",
    "\n",
    "print(distance_err [len(distance_err )-1])"
   ]
  },
  {
   "cell_type": "code",
   "execution_count": 15,
   "metadata": {},
   "outputs": [
    {
     "name": "stdout",
     "output_type": "stream",
     "text": [
      "[12.16551852 17.90949957  2.70474355 ...  2.8833105   6.61898504\n",
      "  2.43225906]\n",
      "204830\n",
      "0.024322590640516478\n"
     ]
    }
   ],
   "source": [
    "print(distance_err * 100)\n",
    "print(len(distance_err * 100))\n",
    "\n",
    "print(distance_err [len(distance_err )-1])"
   ]
  },
  {
   "cell_type": "code",
   "execution_count": 16,
   "metadata": {},
   "outputs": [],
   "source": [
    "# Here is the mw_scatter if you have an array to color the point\n",
    "# x and y must both carry astropy unit\n",
    "\n",
    "plot_instance.mw_scatter(-c.galactic.cartesian.x,\n",
    "                         c.galactic.cartesian.y,\n",
    "                         [distance_err*100, 'Gaia DR2 Distance Precentage Error'])"
   ]
  },
  {
   "cell_type": "code",
   "execution_count": 17,
   "metadata": {},
   "outputs": [],
   "source": [
    "# To show\n",
    "plot_instance.show()"
   ]
  },
  {
   "cell_type": "code",
   "execution_count": 12,
   "metadata": {},
   "outputs": [
    {
     "name": "stdout",
     "output_type": "stream",
     "text": [
      "This is Gaia DR2 - APOGEE DR14 matched parallax, RA DEC in J2015.5, parallax in mas\n"
     ]
    }
   ],
   "source": [
    "from mw_plot import MWPlot\n",
    "\n",
    "from astropy import units as  u\n",
    "import astropy.coordinates as apycoords\n",
    "import numpy as np\n",
    "\n",
    "from astroNN.gaia import gaiadr2_parallax\n",
    "from astroNN.gaia import tgas_load\n",
    "\n",
    "# To load Gaia DR2 - APOGEE DR14 matches, indices corresponds to APOGEE allstar DR14 file\n",
    "ra, dec, parallax, parallax_error = gaiadr2_parallax(cuts=True, keepdims=False)\n",
    "distance = 1 / parallax * u.kpc\n",
    "ra = ra * u.deg\n",
    "dec = dec * u.deg\n",
    "distance_err = parallax_error / parallax\n",
    "c = apycoords.SkyCoord(ra=ra, dec=dec, distance=distance, frame='icrs')\n",
    "\n"
   ]
  },
  {
   "cell_type": "code",
   "execution_count": 45,
   "metadata": {},
   "outputs": [],
   "source": [
    "plot_instance.mw_scatter(-c.galactic.cartesian.x, c.galactic.cartesian.y,\n",
    "                         [distance_err * 100, 'Gaia DR2 Distance Plot'])"
   ]
  },
  {
   "cell_type": "code",
   "execution_count": 46,
   "metadata": {},
   "outputs": [],
   "source": [
    "plot_instance.show()"
   ]
  },
  {
   "cell_type": "code",
   "execution_count": 48,
   "metadata": {},
   "outputs": [],
   "source": [
    "plot_instance.savefig('name01.png')"
   ]
  },
  {
   "cell_type": "code",
   "execution_count": null,
   "metadata": {},
   "outputs": [],
   "source": [
    "c_icrs = SkyCoord(ra=10.68458*u.degree, dec=-41.26917*u.degree, frame='icrs')\n",
    "c_icrs"
   ]
  },
  {
   "cell_type": "code",
   "execution_count": null,
   "metadata": {},
   "outputs": [],
   "source": []
  }
 ],
 "metadata": {
  "kernelspec": {
   "display_name": "Python 3",
   "language": "python",
   "name": "python3"
  },
  "language_info": {
   "codemirror_mode": {
    "name": "ipython",
    "version": 3
   },
   "file_extension": ".py",
   "mimetype": "text/x-python",
   "name": "python",
   "nbconvert_exporter": "python",
   "pygments_lexer": "ipython3",
   "version": "3.7.1"
  }
 },
 "nbformat": 4,
 "nbformat_minor": 2
}
