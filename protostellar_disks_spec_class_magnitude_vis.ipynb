{
 "cells": [
  {
   "cell_type": "code",
   "execution_count": 10,
   "metadata": {},
   "outputs": [
    {
     "name": "stdout",
     "output_type": "stream",
     "text": [
      "                     Object Category Spec_Type R_band_mag  Distance_pc  \\\n",
      "0    2MASSI J1628137-243139       TT       NaN       17.7       140.00   \n",
      "1                    49 Cet   Debris        A1        5.6        59.00   \n",
      "2                    61 Vir   Debris       G7V        4.2         8.50   \n",
      "3                    99 Her   Debris     F7+K4        4.7        15.60   \n",
      "4      [MR81] H alpha 17 NE       TT       M2e       16.9       150.00   \n",
      "5                    AA Tau       TT        M0       11.8       140.00   \n",
      "6                    AB Aur      HAe       A0e        7.1       144.00   \n",
      "7                 alpha CrB   Debris      A0 V        2.2        23.00   \n",
      "8                  AS 205 A       TT        K0       12.8       128.00   \n",
      "9                  AS 205 B       TT     K7+M0         14       128.00   \n",
      "10                   AS 209       TT        K5       10.4       121.00   \n",
      "11                   ASR 41       TT       NaN        NaN       316.00   \n",
      "12                   AU Mic   Debris        M1        8.9         9.94   \n",
      "13                 beta Leo   Debris       A3V          2        11.10   \n",
      "14            beta Pictoris   Debris        A5        3.9        19.30   \n",
      "15                 beta Tri   Debris    A5 III        2.9        38.90   \n",
      "16                 beta UMa   Debris       A1V        2.3        24.30   \n",
      "17                   BP Psc       TT       NaN       12.2       100.00   \n",
      "18                   BP Tau       TT        K7       11.1       140.00   \n",
      "19         CAHA J23056+6016     YSO?       NaN        NaN      3500.00   \n",
      "20                    CB 26      YSO       NaN        NaN       140.00   \n",
      "21                   CI Tau       TT        K7       12.3       158.00   \n",
      "22                   CIDA 9       TT        M4       14.5       171.00   \n",
      "23               CoKu Tau 1       TT        M0       16.8       140.00   \n",
      "24                   CQ Tau       TT        F2        8.9       100.00   \n",
      "25         CRBR 2422.8-3423      YSO       NaN        NaN       125.00   \n",
      "26                   CY Tau       TT        M1       12.5       140.00   \n",
      "27                   DG Tau       TT        K6       11.4       140.00   \n",
      "28                 DG Tau B       TT       NaN        NaN       140.00   \n",
      "29                   DL Tau       TT        K7       11.8       159.00   \n",
      "..                      ...      ...       ...        ...          ...   \n",
      "223                  PDS 70       TT        K5       11.3       140.00   \n",
      "224               PV Cephei      HAe        A5       11.1       500.00   \n",
      "225                 rho Vir   Debris       A0V        4.8        36.90   \n",
      "226                  RU Lup       TT        M0       10.2       154.00   \n",
      "227         RX J1615.3-3255      wTT        K5       11.2       185.00   \n",
      "228                  RY Tau       TT        K1       12.8       128.00   \n",
      "229                   SR 21       TT        G3        NaN       140.00   \n",
      "230                 SR 24 S       TT        K1       14.2       114.40   \n",
      "231                    SR 4       TT        K7       11.7       134.00   \n",
      "232                  Sz 114       TT        M5       14.4       162.00   \n",
      "233                  Sz 129       TT        K7       11.9       161.00   \n",
      "234                Tau Ceti   Debris      G8 V        3.5         3.60   \n",
      "235                  TW Hya       TT        K7       11.4        56.00   \n",
      "236                  TWA 25   Debris        M0       10.9        54.00   \n",
      "237                   TWA 7   Debris     M2 Ve         11        34.50   \n",
      "238                UX Tau A       TT      G5 V        NaN       140.00   \n",
      "239                  UY Aur       TT        K7         10       140.00   \n",
      "240                UZ Tau E       TT        M1       11.2       131.00   \n",
      "241               V1094 Sco       TT        K6       12.5       154.00   \n",
      "242               V4046 Sgr       TT        K5        9.6        73.00   \n",
      "243                V883 Ori      YSO       NaN        NaN       414.00   \n",
      "244                V892 Tau      HAe        B8       14.4       140.00   \n",
      "245                    Vega   Debris        A0        0.1         7.80   \n",
      "246                 WaOph 6       TT        K7         12       123.00   \n",
      "247                   WL 16      HAe     B8-A7        NaN       140.00   \n",
      "248                 WL 20 S      YSO       NaN        NaN       140.00   \n",
      "249                  WSB 52       TT        M0       15.8       136.00   \n",
      "250                  WSB 60       TT      M4.5       16.6       140.00   \n",
      "251                  WW Cha       TT        K5       13.3       160.00   \n",
      "252                zeta Lep   Debris      A0 V        3.4        21.60   \n",
      "\n",
      "     Disk Major Axis  Disk_Diameter_AU  Inclination_degrees  \\\n",
      "0              4.300            602.00                 86.0   \n",
      "1              9.800            578.00                 79.0   \n",
      "2             22.000            187.00                 77.0   \n",
      "3             15.400            240.00                 50.0   \n",
      "4              0.380             57.00                 20.0   \n",
      "5              2.300            322.00                 75.0   \n",
      "6             18.000           2592.00                 22.0   \n",
      "7              4.000             92.00                 80.0   \n",
      "8              0.414             53.00                 20.0   \n",
      "9              0.190             24.00                 66.0   \n",
      "10             2.300            278.00                 35.0   \n",
      "11            20.000           6320.00                 80.0   \n",
      "12            29.250            291.00                 90.0   \n",
      "13             7.100             79.00                 32.0   \n",
      "14            26.000            502.00                 90.0   \n",
      "15             5.600            218.00                 41.0   \n",
      "16             3.800             92.34                 84.0   \n",
      "17             1.200            120.00                 75.0   \n",
      "18             1.500            210.00                 30.0   \n",
      "19             3.000          10500.00                 10.0   \n",
      "20             5.500            770.00                 88.0   \n",
      "21             2.200            348.00                 50.0   \n",
      "22             0.460             79.00                 46.0   \n",
      "23             6.400            896.00                  NaN   \n",
      "24             2.900            290.00                 33.0   \n",
      "25             1.500            187.50                 70.0   \n",
      "26             3.800            532.00                 30.0   \n",
      "27             0.400             56.00                 31.0   \n",
      "28             3.930            550.00                 75.0   \n",
      "29             1.230            196.00                 45.0   \n",
      "..               ...               ...                  ...   \n",
      "223            2.500            350.00                 62.0   \n",
      "224            0.680            340.00                 62.0   \n",
      "225            5.000            185.00                 70.0   \n",
      "226            0.820            126.00                 19.0   \n",
      "227            1.240            230.00                 41.0   \n",
      "228            0.360             46.00                 65.0   \n",
      "229            1.400            196.00                 60.0   \n",
      "230            0.780             89.00                 50.0   \n",
      "231            0.460             62.00                 22.0   \n",
      "232            0.720            117.00                 21.0   \n",
      "233            0.940            151.00                 34.0   \n",
      "234           15.300             55.00                 35.0   \n",
      "235            8.000            448.00                  0.0   \n",
      "236            2.890            156.00                 75.0   \n",
      "237            2.030             70.00                 28.0   \n",
      "238            0.290             41.00                 35.0   \n",
      "239           30.000           4200.00                 42.0   \n",
      "240            1.240            162.00                 56.0   \n",
      "241            3.900            601.00                 53.0   \n",
      "242            2.500            183.00                 32.0   \n",
      "243            0.300            124.00                 38.0   \n",
      "244            0.510             71.00                 59.0   \n",
      "245          140.000           1092.00                  0.0   \n",
      "246            1.675            206.00                 47.0   \n",
      "247            7.000            980.00                 62.0   \n",
      "248            0.590             82.60                  NaN   \n",
      "249            0.470             64.00                 54.0   \n",
      "250            1.200            168.00                 42.0   \n",
      "251            1.320            211.20                  NaN   \n",
      "252            0.280              6.00                 30.0   \n",
      "\n",
      "     Resolution_elements_across  At_ref. wavelength_microns     RA_J2000  \\\n",
      "0                          10.8                        2.10  04 16 01.58   \n",
      "1                          24.5                      850.00  02 17 18.87   \n",
      "2                           3.7                       70.00  16 19 29.24   \n",
      "3                           2.8                       70.00  05 46 57.34   \n",
      "4                           2.9                        2.20  11 22 05.24   \n",
      "5                          44.6                        0.60  16 27 15.72   \n",
      "6                         360.0                        0.57  04 46 53.06   \n",
      "7                           0.7                       11.20  08 25 39.63   \n",
      "8                          13.4                     1250.00  11 10 27.84   \n",
      "9                           6.1                     1250.00  04 47 06.22   \n",
      "10                         62.2                     1250.00  16 28 16.65   \n",
      "11                         97.0                        2.20  11 10 00.11   \n",
      "12                        585.0                        0.60  19 23 53.18   \n",
      "13                          1.2                      100.00  05 35 13.91   \n",
      "14                        520.0                        0.60  20 45 53.96   \n",
      "15                          1.4                       70.00  16 27 10.11   \n",
      "16                          0.7                      100.00  04 18 40.61   \n",
      "17                         40.0                        1.60  15 34 41.27   \n",
      "18                          1.5                     1300.39  11 01 50.48   \n",
      "19                         74.5                        1.60  04 28 50.16   \n",
      "20                         42.4                        2.20  14 56 54.47   \n",
      "21                         18.3                      880.00  13 06 35.84   \n",
      "22                          3.8                     1330.00  15 40 11.56   \n",
      "23                         45.7                        1.60  15 48 56.80   \n",
      "24                          2.5                       20.50  08 46 56.02   \n",
      "25                          4.3                        2.20  12 04 33.73   \n",
      "26                          2.5                     1300.39  17 38 05.52   \n",
      "27                          2.7                     2800.00  04 46 25.75   \n",
      "28                         28.1                        1.60  15 45 12.84   \n",
      "29                         10.3                     1330.00  14 16 23.02   \n",
      "..                          ...                         ...          ...   \n",
      "223                        44.5                        2.18  16 49 15.31   \n",
      "224                         0.6                     1300.00  16 40 17.92   \n",
      "225                         1.2                       70.00  16 27 37.19   \n",
      "226                        32.8                     1250.00  18 09 13.43   \n",
      "227                         2.5                      880.00  23 05 37.52   \n",
      "228                         2.8                     1330.00  16 26 23.68   \n",
      "229                         0.6                      880.00  15 56 09.23   \n",
      "230                         4.3                     1330.00  14 56 54.47   \n",
      "231                        13.5                     1250.00  15 49 57.76   \n",
      "232                        15.3                     1250.00  11 01 51.97   \n",
      "233                        24.7                     1250.00  03 28 51.32   \n",
      "234                         2.6                       70.00   03 43 58.8   \n",
      "235                        84.6                        1.10  05 26 36.59   \n",
      "236                        21.0                        1.60  02 32 55.81   \n",
      "237                        14.8                        1.60  17 56 21.26   \n",
      "238                         1.0                      880.00  15 56 41.89   \n",
      "239                         5.2                     2720.38  21 45 21.90   \n",
      "240                        10.3                     1330.00  10 43 28.27   \n",
      "241                        19.5                     1330.00  15 41 11.38   \n",
      "242                        10.9                      870.00  06 59 59.66   \n",
      "243                        10.0                     1300.00  05 02 27.44   \n",
      "244                         0.6                     2700.00  12 19 06.50   \n",
      "245                         8.2                       70.00  21 18 27.27   \n",
      "246                        29.9                     1250.00  04 55 45.93   \n",
      "247                        43.8                        7.90  07 35 47.46   \n",
      "248                         0.3                     1330.00  02 26 16.25   \n",
      "249                        15.7                     1250.00  21 48 15.75   \n",
      "250                         0.5                     1330.00  05 47 17.09   \n",
      "251                         0.5                     3300.00  20 45 09.53   \n",
      "252                         0.2                       18.30  22 57 39.05   \n",
      "\n",
      "       DEC_J2000  \n",
      "0    -51 29 11.9  \n",
      "1    +33 50 49.9  \n",
      "2    -21 24 13.3  \n",
      "3    -14 49 19.0  \n",
      "4    -24 46 39.1  \n",
      "5      -24 38 46  \n",
      "6    +17 00 00.1  \n",
      "7    -03 54 23.1  \n",
      "8    -37 31 51.7  \n",
      "9    +16 53 23.5  \n",
      "10   -24 36 57.5  \n",
      "11   -76 34 57.9  \n",
      "12   -40 36 57.4  \n",
      "13   -05 24 09.4  \n",
      "14   +67 57 38.9  \n",
      "15   -24 19 14.7  \n",
      "16   +28 19 15.5  \n",
      "17   +26 42 52.9  \n",
      "18   +56 22 56.7  \n",
      "19   +13 02 51.4  \n",
      "20   -35 41 43.7  \n",
      "21   -46 02 02.0  \n",
      "22   -70 13 40.4  \n",
      "23   -03 49 06.6  \n",
      "24   +12 06 35.8  \n",
      "25   +66 20 11.7  \n",
      "26   -54 30 01.6  \n",
      "27   -28 05 14.8  \n",
      "28   -34 17 31.1  \n",
      "29   +46 05 17.9  \n",
      "..           ...  \n",
      "223  -14 22 08.6  \n",
      "224  -23 53 45.2  \n",
      "225    -24 30 35  \n",
      "226  -32 10 48.0  \n",
      "227  +60 15 45.8  \n",
      "228  -24 43 13.9  \n",
      "229  -37 56 05.9  \n",
      "230  -35 41 43.7  \n",
      "231  -03 55 16.2  \n",
      "232  -34 42 17.6  \n",
      "233  +31 17 40.0  \n",
      "234    +32 01 52  \n",
      "235  -22 29 23.7  \n",
      "236  +37 20 01.4  \n",
      "237  -21 57 21.6  \n",
      "238  -42 19 23.3  \n",
      "239  -12 47 00.1  \n",
      "240  -29 03 51.4  \n",
      "241  -44 39 40.3  \n",
      "242  -61 20 10.3  \n",
      "243  +07 27 39.7  \n",
      "244  +16 32 53.9  \n",
      "245  -43 20 04.7  \n",
      "246  +30 33 03.6  \n",
      "247  -32 12 14.0  \n",
      "248  +06 17 33.1  \n",
      "249  -47 18 13.0  \n",
      "250  -51 03 59.5  \n",
      "251  -31 20 27.2  \n",
      "252  -29 37 20.1  \n",
      "\n",
      "[253 rows x 12 columns]\n"
     ]
    }
   ],
   "source": [
    "#visualizing protostellar disks data from protostellar disk catalog\n",
    "\n",
    "import pandas as pd\n",
    "import numpy as np\n",
    "import matplotlib.pyplot as plt\n",
    "import csv\n",
    "import math\n",
    "\n",
    "#from sort_functions import sort_spectral_class \n",
    "#from sort_functions import b, c\n",
    "#from sort_functions import a\n",
    "import importlib\n",
    "from functions import sort_functions\n",
    "importlib.reload(sort_functions)\n",
    "\n",
    "from astropy import units as u\n",
    "from astropy.coordinates import SkyCoord\n",
    "from mw_plot import MWPlot\n",
    "\n",
    "circumstellar_disks = pd.read_csv(\"data/circumstellardisks.csv\")\n",
    "data = pd.DataFrame(circumstellar_disks)\n",
    "print(data )"
   ]
  },
  {
   "cell_type": "code",
   "execution_count": 2,
   "metadata": {},
   "outputs": [
    {
     "name": "stdout",
     "output_type": "stream",
     "text": [
      "Total number of protostellar disk objects: 253\n"
     ]
    }
   ],
   "source": [
    "print(\"Total number of protostellar disk objects: \" + str(len(data)))"
   ]
  },
  {
   "cell_type": "code",
   "execution_count": 3,
   "metadata": {},
   "outputs": [
    {
     "name": "stdout",
     "output_type": "stream",
     "text": [
      "Categories of Protostellar Disk: ['TT' 'Debris' 'HAe' 'YSO?' 'YSO' 'Trans' 'HBe' nan 'PPN' 'UC' 'wTT']\n",
      "\n",
      "Counts of Unique Categories:\n",
      "Debris    96\n",
      "TT        72\n",
      "UC        37\n",
      "YSO       22\n",
      "HAe       17\n",
      "Trans      3\n",
      "YSO?       1\n",
      "wTT        1\n",
      "HBe        1\n",
      "PPN        1\n",
      "Name: Category, dtype: int64\n",
      "Number of missing Categories: 2\n"
     ]
    }
   ],
   "source": [
    "prot_disk_cat = data.Category.unique() #unique types of protostellar disks\n",
    "print(\"Categories of Protostellar Disk: \" + str(prot_disk_cat) + \"\\n\")\n",
    "print(\"Counts of Unique Categories:\")\n",
    "print(data['Category'].value_counts())\n",
    "#Count Missing Values\n",
    "missing_cat = 0\n",
    "for index, row in data.iterrows():\n",
    "    category_str = row['Category']\n",
    "    if (isinstance(category_str, float)):\n",
    "        missing_cat += 1\n",
    "        #print(str(row['Object']) + \" \" + str(category_str) + \" \" + \"Spectral Class Data missing\")\n",
    "print(\"Number of missing Categories: \" + str(missing_cat))\n",
    "#Make it properly"
   ]
  },
  {
   "cell_type": "code",
   "execution_count": 4,
   "metadata": {},
   "outputs": [],
   "source": [
    "#TODO: Attach visualization of what each Disk Means"
   ]
  },
  {
   "cell_type": "code",
   "execution_count": 5,
   "metadata": {},
   "outputs": [
    {
     "data": {
      "image/png": "[encoded data removed]",
      "text/plain": [
       "<Figure size 432x288 with 1 Axes>"
      ]
     },
     "metadata": {
      "needs_background": "light"
     },
     "output_type": "display_data"
    }
   ],
   "source": [
    "types = [\"Debris\", \"TT\", \"UC\", \"YSO\", \"HAe\", \"Trans\",\"YSO?\", \"PPN\",\"HBe\", \"wTT\"]\n",
    "fig = plt.figure()\n",
    "plt.bar(types, data['Category'].value_counts())\n",
    "fig.suptitle('Count of unique Categories of protostellar disks', fontsize=14)\n",
    "plt.xlabel('Type of protostellar disk', fontsize=14)\n",
    "plt.ylabel('Count', fontsize=14)\n",
    "plt.yticks(np.arange(0, 110, step=10))\n",
    "plt.grid()\n",
    "plt.show()"
   ]
  },
  {
   "cell_type": "code",
   "execution_count": 6,
   "metadata": {},
   "outputs": [
    {
     "ename": "NameError",
     "evalue": "name 'object_magnitude' is not defined",
     "output_type": "error",
     "traceback": [
      "\u001b[1;31m---------------------------------------------------------------------------\u001b[0m",
      "\u001b[1;31mNameError\u001b[0m                                 Traceback (most recent call last)",
      "\u001b[1;32m<ipython-input-6-31db1a0336bf>\u001b[0m in \u001b[0;36m<module>\u001b[1;34m\u001b[0m\n\u001b[1;32m----> 1\u001b[1;33m \u001b[0ma\u001b[0m \u001b[1;33m=\u001b[0m \u001b[1;33m[\u001b[0m\u001b[1;36m0\u001b[0m\u001b[1;33m]\u001b[0m\u001b[1;33m*\u001b[0m\u001b[0mlen\u001b[0m\u001b[1;33m(\u001b[0m\u001b[0mobject_magnitude\u001b[0m\u001b[1;33m)\u001b[0m\u001b[1;33m\u001b[0m\u001b[1;33m\u001b[0m\u001b[0m\n\u001b[0m\u001b[0;32m      2\u001b[0m \u001b[0mfig\u001b[0m \u001b[1;33m=\u001b[0m \u001b[0mplt\u001b[0m\u001b[1;33m.\u001b[0m\u001b[0mfigure\u001b[0m\u001b[1;33m(\u001b[0m\u001b[0mfigsize\u001b[0m\u001b[1;33m=\u001b[0m\u001b[1;33m(\u001b[0m\u001b[1;36m20\u001b[0m\u001b[1;33m,\u001b[0m\u001b[1;36m10\u001b[0m\u001b[1;33m)\u001b[0m\u001b[1;33m)\u001b[0m\u001b[1;33m\u001b[0m\u001b[1;33m\u001b[0m\u001b[0m\n\u001b[0;32m      3\u001b[0m \u001b[0mplt\u001b[0m\u001b[1;33m.\u001b[0m\u001b[0mscatter\u001b[0m\u001b[1;33m(\u001b[0m\u001b[0mobject_magnitude\u001b[0m\u001b[1;33m[\u001b[0m\u001b[1;34m'Category'\u001b[0m\u001b[1;33m]\u001b[0m\u001b[1;33m,\u001b[0m \u001b[0mobject_magnitude\u001b[0m\u001b[1;33m[\u001b[0m\u001b[1;34m'Magnitude'\u001b[0m\u001b[1;33m]\u001b[0m\u001b[1;33m)\u001b[0m\u001b[1;33m\u001b[0m\u001b[1;33m\u001b[0m\u001b[0m\n\u001b[0;32m      4\u001b[0m \u001b[0mplt\u001b[0m\u001b[1;33m.\u001b[0m\u001b[0mxticks\u001b[0m\u001b[1;33m(\u001b[0m\u001b[0mrotation\u001b[0m\u001b[1;33m=\u001b[0m\u001b[1;36m45\u001b[0m\u001b[1;33m,\u001b[0m \u001b[0mfontsize\u001b[0m\u001b[1;33m=\u001b[0m\u001b[1;36m20\u001b[0m\u001b[1;33m)\u001b[0m\u001b[1;33m\u001b[0m\u001b[1;33m\u001b[0m\u001b[0m\n\u001b[0;32m      5\u001b[0m fig.suptitle('Plot of Protostellar disk R band Magnitude vs Category', \n",
      "\u001b[1;31mNameError\u001b[0m: name 'object_magnitude' is not defined"
     ]
    }
   ],
   "source": [
    "a = [0]*len(object_magnitude)\n",
    "fig = plt.figure(figsize=(20,10))\n",
    "plt.scatter(object_magnitude['Category'], object_magnitude['Magnitude'])\n",
    "plt.xticks(rotation=45, fontsize=20)\n",
    "fig.suptitle('Plot of Protostellar disk R band Magnitude vs Category', \n",
    "             fontsize=24)\n",
    "plt.axhline(y=4, alpha= 0.4, color='r')\n",
    "plt.axhline(y=15, alpha= 0.4, color='r')\n",
    "plt.xlabel('Object', fontsize=20)\n",
    "plt.ylabel('R_Band_Magnitude', fontsize=20)\n",
    "plt.yticks(np.arange(0, 25, step=2))\n",
    "plt.grid()\n",
    "plt.show()\n",
    "\n",
    "print(\"Plot of the Disk Magnitudes vs Known Categories. Red lines constrain 4<R_mag<15\")\n",
    "print(str(len(object_magnitude['Category'])) + \" Total objects plotted\")"
   ]
  },
  {
   "cell_type": "code",
   "execution_count": null,
   "metadata": {},
   "outputs": [],
   "source": [
    "missing_spectral_class, spectral_bins,spectral_bins_temp,magnitude_spec_type = sort_functions.sort_mag_spec_type(data)"
   ]
  },
  {
   "cell_type": "code",
   "execution_count": null,
   "metadata": {},
   "outputs": [],
   "source": [
    "print(str(missing_spectral_class) + \" data are missing spectral classification\") #\n",
    "print(\"Count of Spectral Class:\")\n",
    "print(\" O  B   A   F   G   K   M\")\n",
    "print(spectral_bins)"
   ]
  },
  {
   "cell_type": "code",
   "execution_count": null,
   "metadata": {},
   "outputs": [],
   "source": [
    "spectral_types = [\"O\", \"B\", \"A\", \"F\", \"G\", \"K\", \"M\"]\n",
    "fig = plt.figure()\n",
    "plt.bar(spectral_types, spectral_bins)\n",
    "fig.suptitle('Plot of spectral types', fontsize=14)\n",
    "plt.xlabel('Spectral type', fontsize=14)\n",
    "plt.ylabel('Count', fontsize=14)\n",
    "plt.yticks(np.arange(0, 60, step=10))\n",
    "plt.grid()\n",
    "plt.show()"
   ]
  },
  {
   "cell_type": "code",
   "execution_count": null,
   "metadata": {},
   "outputs": [],
   "source": [
    "#Subdivisions for Bins\n",
    "#a = [1,1,1,1,1,1,1,1,1,1,1,1,1,1,1,1,1,1,1,1,1]\n",
    "spectral_types_bins = [\"O0-3\", \"O4-6\" ,\"O7-9\", \"B0-3\", \"B4-6\" ,\"B7-9\", \n",
    "                       \"A0-3\", \"A4-6\" ,\"A7-9\" , \"F0-3\", \"F4-6\" ,\"F7-9\", \n",
    "                       \"G0-3\", \"G4-6\" ,\"G7-9\" , \"K0-3\", \"K4-6\" ,\"K7-9\", \n",
    "                       \"M0-3\", \"M4-6\" ,\"M7-9\"]\n",
    "\n",
    "fig = plt.figure(figsize=(20,10))\n",
    "plt.bar(spectral_types_bins, spectral_bins_temp)\n",
    "fig.suptitle('Count of spectral types with 0-9 temperature subdivisions', fontsize=14)\n",
    "plt.xlabel('Spectral type', fontsize=14)\n",
    "plt.ylabel('Count', fontsize=14)\n",
    "plt.yticks(np.arange(0, 50, step=2))\n",
    "plt.grid()\n",
    "plt.show()"
   ]
  },
  {
   "cell_type": "code",
   "execution_count": 7,
   "metadata": {},
   "outputs": [
    {
     "name": "stdout",
     "output_type": "stream",
     "text": [
      "59 Data are missing magnitude\n"
     ]
    }
   ],
   "source": [
    "missing_mag, object_magnitude = sort_functions.sort_mag(data)\n",
    "print(str(missing_mag) + \" Data are missing magnitude\")"
   ]
  },
  {
   "cell_type": "code",
   "execution_count": 8,
   "metadata": {},
   "outputs": [
    {
     "data": {
      "image/png": "[encoded data removed]",
      "text/plain": [
       "<Figure size 1440x720 with 1 Axes>"
      ]
     },
     "metadata": {
      "needs_background": "light"
     },
     "output_type": "display_data"
    },
    {
     "name": "stdout",
     "output_type": "stream",
     "text": [
      "Unordered Scatter plot of the Disk Magnitudes. Red lines constrain 4<R_mag<15\n",
      "194 Total objects plotted\n"
     ]
    }
   ],
   "source": [
    "a = [0]*len(object_magnitude)\n",
    "fig = plt.figure(figsize=(20,10))\n",
    "plt.scatter(object_magnitude['Object'], object_magnitude['Magnitude'])\n",
    "plt.xticks(rotation=45, fontsize=4)\n",
    "fig.suptitle('Plot of Protostellar disk R band Magnitude', fontsize=14)\n",
    "plt.axhline(y=4, alpha= 0.4, color='r')\n",
    "plt.axhline(y=15, alpha= 0.4, color='r')\n",
    "plt.xlabel('Object', fontsize=14)\n",
    "plt.ylabel('R_Band_Magnitude', fontsize=14)\n",
    "plt.yticks(np.arange(0, 25, step=2))\n",
    "plt.grid()\n",
    "plt.show()\n",
    "\n",
    "print(\"Unordered Scatter plot of the Disk Magnitudes. Red lines constrain 4<R_mag<15\")\n",
    "print(str(len(object_magnitude['Object'])) + \" Total objects plotted\")"
   ]
  },
  {
   "cell_type": "code",
   "execution_count": 11,
   "metadata": {},
   "outputs": [
    {
     "ename": "NameError",
     "evalue": "name 'magnitude_spec_type' is not defined",
     "output_type": "error",
     "traceback": [
      "\u001b[1;31m---------------------------------------------------------------------------\u001b[0m",
      "\u001b[1;31mNameError\u001b[0m                                 Traceback (most recent call last)",
      "\u001b[1;32m<ipython-input-11-28129825da27>\u001b[0m in \u001b[0;36m<module>\u001b[1;34m\u001b[0m\n\u001b[0;32m      1\u001b[0m \u001b[1;31m#magnitude_spec_type_arrange, magnitude_spec_type_bins_arrange\u001b[0m\u001b[1;33m\u001b[0m\u001b[1;33m\u001b[0m\u001b[1;33m\u001b[0m\u001b[0m\n\u001b[1;32m----> 2\u001b[1;33m \u001b[0mmagnitude_spec_type_arrange\u001b[0m\u001b[1;33m,\u001b[0m \u001b[0mmagnitude_spec_type_bins_arrange\u001b[0m\u001b[1;33m,\u001b[0m \u001b[0mmean_magnitude_spec_clas\u001b[0m \u001b[1;33m=\u001b[0m \u001b[0msort_functions\u001b[0m\u001b[1;33m.\u001b[0m\u001b[0msort_magnitude_spec_type_arrange\u001b[0m\u001b[1;33m(\u001b[0m\u001b[0mmagnitude_spec_type\u001b[0m\u001b[1;33m,\u001b[0m \u001b[0mspectral_types\u001b[0m \u001b[1;33m,\u001b[0m \u001b[0mspectral_types_bins\u001b[0m\u001b[1;33m)\u001b[0m\u001b[1;33m\u001b[0m\u001b[1;33m\u001b[0m\u001b[0m\n\u001b[0m",
      "\u001b[1;31mNameError\u001b[0m: name 'magnitude_spec_type' is not defined"
     ]
    }
   ],
   "source": [
    "#magnitude_spec_type_arrange, magnitude_spec_type_bins_arrange\n",
    "magnitude_spec_type_arrange, magnitude_spec_type_bins_arrange, mean_magnitude_spec_clas = sort_functions.sort_magnitude_spec_type_arrange(magnitude_spec_type, spectral_types , spectral_types_bins)"
   ]
  },
  {
   "cell_type": "code",
   "execution_count": null,
   "metadata": {},
   "outputs": [],
   "source": [
    "fig = plt.figure(figsize=(20,10))\n",
    "plt.scatter(magnitude_spec_type_arrange['Object'], magnitude_spec_type_arrange['Magnitude'])\n",
    "plt.xticks(rotation=45, fontsize=4)\n",
    "fig.suptitle('Plot of Protostellar Disk R band Magnitude vs Spectral Class', fontsize=24)\n",
    "plt.axhline(y=4, alpha= 0.4, color='r')\n",
    "plt.axhline(y=15, alpha= 0.4, color='r')\n",
    "\n",
    "colour_spectrum = ['blue', 'lightblue', 'white', 'wheat' ,'yellow' ,'orange','red']\n",
    "c = 1\n",
    "\n",
    "for i in range(1, len(magnitude_spec_type_arrange)):#goes thrrough all the data\n",
    "    if(i == 1):\n",
    "        plt.axvline(x=i-1, alpha= 0.4, color=colour_spectrum[1]) #light blue\n",
    "        plt.text(i-1, 1, magnitude_spec_type_arrange['Spec_Type'][i][0],\n",
    "                 color='black', \n",
    "                 fontsize = 18)\n",
    "        c += 1\n",
    "    #if the letter now is not equal to the letter before\n",
    "    elif(magnitude_spec_type_arrange['Spec_Type'][i][0] != magnitude_spec_type_arrange['Spec_Type'][i-1][0]):\n",
    "        plt.axvline(x=i, alpha= 10, color=colour_spectrum[c])#print on the letter now\n",
    "        plt.text(i+1, 1, \n",
    "                 magnitude_spec_type_arrange['Spec_Type'][i][0], color='black', fontsize = 18)\n",
    "        c += 1\n",
    "\n",
    "#plt.axvline(x=55, alpha= 0.4, color='blue')\n",
    "    \n",
    "plt.xlabel('Object', fontsize=14)\n",
    "plt.ylabel('R_Band_Magnitude', fontsize=14)\n",
    "plt.yticks(np.arange(0, 25, step=2))\n",
    "plt.grid(alpha = 0.3)\n",
    "plt.show()\n",
    "#it looks like I can fit a line through this\n",
    "\n",
    "print(\"Unordered Scatter plot of the Disk Magnitudes. Red Lines Constrain 4<R_mag<15\")\n",
    "print(str(len(magnitude_spec_type_arrange['Magnitude'])) + \" Total objects plotted\")"
   ]
  },
  {
   "cell_type": "code",
   "execution_count": null,
   "metadata": {},
   "outputs": [],
   "source": [
    "fig = plt.figure(figsize=(20,10))\n",
    "plt.scatter(magnitude_spec_type_bins_arrange['Object'], magnitude_spec_type_bins_arrange['Magnitude'])\n",
    "plt.xticks(rotation=45, fontsize=4)\n",
    "fig.suptitle('Plot of Protostellar Disk R band Magnitude vs Spectral Class sorted 0-9 Temperature', fontsize=24)\n",
    "plt.axhline(y=4, alpha= 0.4, color='r')\n",
    "plt.axhline(y=15, alpha= 0.4, color='r')\n",
    "\n",
    "c = 1\n",
    "\n",
    "for i in range(1, len(magnitude_spec_type_arrange)):#goes thrrough all the data\n",
    "    if(i == 1):\n",
    "        plt.axvline(x=i-1, alpha= 0.4, color=colour_spectrum[1]) #light blue\n",
    "        plt.text(i-1, 1, magnitude_spec_type_arrange['Spec_Type'][i][0],\n",
    "                 color='black', \n",
    "                 fontsize = 18)\n",
    "        c += 1\n",
    "    #if the letter now is not equal to the letter before\n",
    "    elif(magnitude_spec_type_arrange['Spec_Type'][i][0] != magnitude_spec_type_arrange['Spec_Type'][i-1][0]):\n",
    "        plt.axvline(x=i, alpha= 10, color=colour_spectrum[c])#print on the letter now\n",
    "        plt.text(i+1, 1, \n",
    "                 magnitude_spec_type_arrange['Spec_Type'][i][0], color='black', fontsize = 18)\n",
    "        c += 1\n",
    "\n",
    "plt.axhline(y=16.70, alpha= 0.4, color='blue')\n",
    "        \n",
    "plt.xlabel('Object', fontsize=14)\n",
    "plt.ylabel('R_Band_Magnitude', fontsize=14)\n",
    "plt.yticks(np.arange(0, 25, step=2))\n",
    "plt.grid(alpha = 0.4)\n",
    "plt.show()\n",
    "#it looks like I can fit a line through this\n",
    "\n",
    "print(\"Unordered Scatter plot of the Disk Magnitudes. Red Lines Constrain 4<R_mag<15\")\n",
    "print(str(len(magnitude_spec_type_bins_arrange)) + \" Total objects plotted\")"
   ]
  },
  {
   "cell_type": "code",
   "execution_count": null,
   "metadata": {},
   "outputs": [],
   "source": [
    "#Already you can deliver some analytics based on this. \n",
    "#How many inside the magnitude region of interest are of a certain category of disk/ the brightest dissks are of what type/Category?\n",
    "#How many inside the magnitude region of interest are of a certain spectral class."
   ]
  },
  {
   "cell_type": "code",
   "execution_count": null,
   "metadata": {},
   "outputs": [],
   "source": [
    "#Average magnitude in a spectral class, average magnitude in spectral class"
   ]
  },
  {
   "cell_type": "code",
   "execution_count": null,
   "metadata": {},
   "outputs": [],
   "source": [
    "#spectral_types = [\"O\", \"B\", \"A\", \"F\", \"G\", \"K\", \"M\"]\n",
    "fig = plt.figure()\n",
    "plt.bar(spectral_types, mean_magnitude_spec_clas)\n",
    "fig.suptitle('Plot of Average Magnitude of spectral types', fontsize=14)\n",
    "plt.xlabel('Spectral type', fontsize=14)\n",
    "plt.ylabel('Count', fontsize=14)\n",
    "plt.yticks(np.arange(0, 20, step=2))\n",
    "plt.grid()\n",
    "plt.show()"
   ]
  },
  {
   "cell_type": "code",
   "execution_count": null,
   "metadata": {},
   "outputs": [],
   "source": [
    "#Average magnitude of a Category"
   ]
  },
  {
   "cell_type": "code",
   "execution_count": null,
   "metadata": {},
   "outputs": [],
   "source": []
  }
 ],
 "metadata": {
  "kernelspec": {
   "display_name": "Python 3",
   "language": "python",
   "name": "python3"
  },
  "language_info": {
   "codemirror_mode": {
    "name": "ipython",
    "version": 3
   },
   "file_extension": ".py",
   "mimetype": "text/x-python",
   "name": "python",
   "nbconvert_exporter": "python",
   "pygments_lexer": "ipython3",
   "version": "3.7.1"
  }
 },
 "nbformat": 4,
 "nbformat_minor": 2
}
